{
 "cells": [
  {
   "cell_type": "markdown",
   "metadata": {},
   "source": [
    "### This Notebook can be used to compute the flux of MCP from meson decays in cosmic-showers"
   ]
  },
  {
   "cell_type": "code",
   "execution_count": 1,
   "metadata": {},
   "outputs": [
    {
     "name": "stdout",
     "output_type": "stream",
     "text": [
      "Read_Meson.py called! \n",
      "Meson_Br.py called! \n",
      "Meson_Functions.py called! \n"
     ]
    }
   ],
   "source": [
    "#--- Import relevant scripts used for the calculation of the MCP flux \n",
    "\n",
    "from Read_Meson import *\n",
    "from Meson_Br import *\n",
    "from Meson_Functions import *\n",
    "\n",
    "import os\n",
    "main = os.path.dirname(os.getcwd())"
   ]
  },
  {
   "cell_type": "code",
   "execution_count": 2,
   "metadata": {},
   "outputs": [
    {
     "name": "stdout",
     "output_type": "stream",
     "text": [
      "C:\\Users\\vicmual\\Desktop\\Repository\n"
     ]
    }
   ],
   "source": [
    "from Repo_Path import *"
   ]
  },
  {
   "cell_type": "code",
   "execution_count": 3,
   "metadata": {},
   "outputs": [],
   "source": [
    "#--- Define object to integrate\n",
    "def Integrando_LogEp(LogEp,x,mMCP,Edau,idxc):\n",
    "    pi0=2*np.exp(LogEp)*float(arr_pi0_X[idxc](x,np.exp(LogEp)))*dP_dE_3B(np.exp(LogEp), Edau, 2*mMCP,m_pi0)*arr_rho_X[idxc](x)**-1*decay_length_pi0(np.exp(LogEp))**-1\n",
    "    return pi0\n",
    "\n",
    "#--- Production Profile of MCP\n",
    "def MCP_dLogXdE(LogX,e):\n",
    "            return np.exp(LogX)*float(interpol_MCP_dX(np.exp(LogX),e))\n"
   ]
  },
  {
   "cell_type": "code",
   "execution_count": 4,
   "metadata": {},
   "outputs": [],
   "source": [
    "#--- Set the mass and epsilon2 values for the computation:\n",
    "mMCP_vec=[0.05]\n",
    "eps2_vec=[1e-2] \n",
    "\n",
    "#--- Azimuthal contribution\n",
    "ang_factor=2*PI\n",
    "\n",
    "#--- Set energy grid for MCP flux\n",
    "e_vec=np.unique(E_d)\n",
    "e_vec_dau=np.logspace(np.log10(e_vec[0]),np.log10(e_vec[60]))"
   ]
  },
  {
   "cell_type": "code",
   "execution_count": 5,
   "metadata": {},
   "outputs": [
    {
     "name": "stderr",
     "output_type": "stream",
     "text": [
      "<ipython-input-5-541d62c00fb2>:29: IntegrationWarning: The occurrence of roundoff error is detected, which prevents \n",
      "  the requested tolerance from being achieved.  The error may be \n",
      "  underestimated.\n",
      "  I=integrate.quad(MCP_dLogXdE,np.log(min(x_vec)),np.log(max(x_vec)),args=(E),epsabs= 1e-10, epsrel= 1e-10, limit=300)\n"
     ]
    }
   ],
   "source": [
    "#--- Compute the flux of MCP at the surface of the earth:\n",
    "dFlx_dE=[]\n",
    "for mMCP_val in mMCP_vec:\n",
    "    dFlx_dE_cos=[]\n",
    "    for ic, cos in enumerate(cos_unique):\n",
    "        int_val=[]\n",
    "        x_val=[]\n",
    "        e_val=[]   \n",
    "        #--- ***small adjustment to avoid interpolation issues\n",
    "        if cos==0.8:\n",
    "            x_vec=np.logspace(np.log10(min(slant[-2])+0.001), np.log10(max(slant[-2])))\n",
    "        elif cos==1.0:\n",
    "            x_vec=np.logspace(np.log10(min(slant[-1])+0.01), np.log10(max(slant[-1])))\n",
    "        else:    \n",
    "            x_vec=np.logspace(np.log10(min(slant[ic])), np.log10(max(slant[ic])))\n",
    "        #--- ***\n",
    "        for X in x_vec:\n",
    "            for E in e_vec_dau:\n",
    "                I=integrate.quad(Integrando_LogEp,np.log(Epar_min(E,2*mMCP_val,m_pi0)),np.log(Epar_max(E,2*mMCP_val,m_pi0)),args=(X,mMCP_val,E,ic),epsabs= 1e-10, epsrel= 1e-10, limit=300)\n",
    "                int_val.append(I[0])\n",
    "                e_val.append(E)\n",
    "                x_val.append(X)\n",
    "\n",
    "        df_X = pd.DataFrame.from_dict({'X1':x_val, 'X2':e_val, 'F_X1X2': int_val})\n",
    "        interpol_MCP_dX= interpolation_2D(df_X)\n",
    "\n",
    "        dphi_dE=[]\n",
    "        for E in e_vec_dau:\n",
    "            I=integrate.quad(MCP_dLogXdE,np.log(min(x_vec)),np.log(max(x_vec)),args=(E),epsabs= 1e-10, epsrel= 1e-10, limit=300)\n",
    "            dphi_dE.append(I[0]*ang_factor)\n",
    "        dFlx_dE_cos.append(dphi_dE)\n",
    "    dFlx_dE.append(dFlx_dE_cos)"
   ]
  },
  {
   "cell_type": "code",
   "execution_count": 6,
   "metadata": {},
   "outputs": [],
   "source": [
    "#--- Multiply by Br(M-> MCP) to get the flux\n",
    "\n",
    "def MCP_flux(Ei,idxc,idxm):\n",
    "    E_val=Ei\n",
    "    mcp_flx_val= dFlx_dE[idxm][idxc]\n",
    "    mcp_flx=interpolate.interp1d(e_vec_dau,mcp_flx_val)\n",
    "    mcp_surf=mcp_flx(E_val)\n",
    "    return mcp_surf\n",
    "\n",
    "eps2_dat=[]\n",
    "m_dat=[]\n",
    "e_dat=[]\n",
    "cos_dat=[]\n",
    "flx_dat=[]\n",
    "e_delta=[]\n",
    "for ide,eps2_val in enumerate(eps2_vec):\n",
    "    for idm, mMCP_val in enumerate(mMCP_vec):\n",
    "        for idc, cos in enumerate(cos_unique):\n",
    "            for e in e_vec_dau: \n",
    "                eps2_dat.append(eps2_val)\n",
    "                m_dat.append(mMCP_val)\n",
    "                cos_dat.append(cos)\n",
    "                flx_dat.append(Br_pi0_mCP(eps2_val,mMCP_val)*MCP_flux(e,idc,idm) )\n",
    "                e_dat.append(e)"
   ]
  },
  {
   "cell_type": "code",
   "execution_count": 7,
   "metadata": {},
   "outputs": [
    {
     "data": {
      "text/html": [
       "<div>\n",
       "<style scoped>\n",
       "    .dataframe tbody tr th:only-of-type {\n",
       "        vertical-align: middle;\n",
       "    }\n",
       "\n",
       "    .dataframe tbody tr th {\n",
       "        vertical-align: top;\n",
       "    }\n",
       "\n",
       "    .dataframe thead th {\n",
       "        text-align: right;\n",
       "    }\n",
       "</style>\n",
       "<table border=\"1\" class=\"dataframe\">\n",
       "  <thead>\n",
       "    <tr style=\"text-align: right;\">\n",
       "      <th></th>\n",
       "      <th>dphi_dEdCth(1/GeV/s/cm2)</th>\n",
       "      <th>Energy (GeV)</th>\n",
       "      <th>cosTh</th>\n",
       "      <th>m(GeV)</th>\n",
       "      <th>eps2</th>\n",
       "    </tr>\n",
       "  </thead>\n",
       "  <tbody>\n",
       "    <tr>\n",
       "      <th>0</th>\n",
       "      <td>5.839666e-08</td>\n",
       "      <td>1.349700e-01</td>\n",
       "      <td>0.0</td>\n",
       "      <td>0.05</td>\n",
       "      <td>0.01</td>\n",
       "    </tr>\n",
       "    <tr>\n",
       "      <th>1</th>\n",
       "      <td>2.848004e-08</td>\n",
       "      <td>1.936911e-01</td>\n",
       "      <td>0.0</td>\n",
       "      <td>0.05</td>\n",
       "      <td>0.01</td>\n",
       "    </tr>\n",
       "    <tr>\n",
       "      <th>2</th>\n",
       "      <td>1.801280e-08</td>\n",
       "      <td>2.779598e-01</td>\n",
       "      <td>0.0</td>\n",
       "      <td>0.05</td>\n",
       "      <td>0.01</td>\n",
       "    </tr>\n",
       "    <tr>\n",
       "      <th>3</th>\n",
       "      <td>1.205648e-08</td>\n",
       "      <td>3.988910e-01</td>\n",
       "      <td>0.0</td>\n",
       "      <td>0.05</td>\n",
       "      <td>0.01</td>\n",
       "    </tr>\n",
       "    <tr>\n",
       "      <th>4</th>\n",
       "      <td>8.248841e-09</td>\n",
       "      <td>5.724356e-01</td>\n",
       "      <td>0.0</td>\n",
       "      <td>0.05</td>\n",
       "      <td>0.01</td>\n",
       "    </tr>\n",
       "    <tr>\n",
       "      <th>...</th>\n",
       "      <td>...</td>\n",
       "      <td>...</td>\n",
       "      <td>...</td>\n",
       "      <td>...</td>\n",
       "      <td>...</td>\n",
       "    </tr>\n",
       "    <tr>\n",
       "      <th>295</th>\n",
       "      <td>2.394320e-25</td>\n",
       "      <td>1.547008e+06</td>\n",
       "      <td>1.0</td>\n",
       "      <td>0.05</td>\n",
       "      <td>0.01</td>\n",
       "    </tr>\n",
       "    <tr>\n",
       "      <th>296</th>\n",
       "      <td>6.787681e-26</td>\n",
       "      <td>2.220060e+06</td>\n",
       "      <td>1.0</td>\n",
       "      <td>0.05</td>\n",
       "      <td>0.01</td>\n",
       "    </tr>\n",
       "    <tr>\n",
       "      <th>297</th>\n",
       "      <td>1.904236e-26</td>\n",
       "      <td>3.185937e+06</td>\n",
       "      <td>1.0</td>\n",
       "      <td>0.05</td>\n",
       "      <td>0.01</td>\n",
       "    </tr>\n",
       "    <tr>\n",
       "      <th>298</th>\n",
       "      <td>5.430784e-27</td>\n",
       "      <td>4.572034e+06</td>\n",
       "      <td>1.0</td>\n",
       "      <td>0.05</td>\n",
       "      <td>0.01</td>\n",
       "    </tr>\n",
       "    <tr>\n",
       "      <th>299</th>\n",
       "      <td>1.586727e-27</td>\n",
       "      <td>6.561178e+06</td>\n",
       "      <td>1.0</td>\n",
       "      <td>0.05</td>\n",
       "      <td>0.01</td>\n",
       "    </tr>\n",
       "  </tbody>\n",
       "</table>\n",
       "<p>300 rows × 5 columns</p>\n",
       "</div>"
      ],
      "text/plain": [
       "     dphi_dEdCth(1/GeV/s/cm2)  Energy (GeV)  cosTh  m(GeV)  eps2\n",
       "0                5.839666e-08  1.349700e-01    0.0    0.05  0.01\n",
       "1                2.848004e-08  1.936911e-01    0.0    0.05  0.01\n",
       "2                1.801280e-08  2.779598e-01    0.0    0.05  0.01\n",
       "3                1.205648e-08  3.988910e-01    0.0    0.05  0.01\n",
       "4                8.248841e-09  5.724356e-01    0.0    0.05  0.01\n",
       "..                        ...           ...    ...     ...   ...\n",
       "295              2.394320e-25  1.547008e+06    1.0    0.05  0.01\n",
       "296              6.787681e-26  2.220060e+06    1.0    0.05  0.01\n",
       "297              1.904236e-26  3.185937e+06    1.0    0.05  0.01\n",
       "298              5.430784e-27  4.572034e+06    1.0    0.05  0.01\n",
       "299              1.586727e-27  6.561178e+06    1.0    0.05  0.01\n",
       "\n",
       "[300 rows x 5 columns]"
      ]
     },
     "execution_count": 7,
     "metadata": {},
     "output_type": "execute_result"
    }
   ],
   "source": [
    "#--- Create data frame and save this in the 'Data/MCP_flux' folder\n",
    "df=pd.DataFrame.from_dict({'dphi_dEdCth(1/GeV/s/cm2)':flx_dat,'Energy (GeV)':e_dat,'cosTh':cos_dat ,'m(GeV)':m_dat,'eps2':eps2_dat })\n",
    "path_to_data=repo_path+'\\Data\\MCP_flux'\n",
    "df.to_csv (path_to_data+r'\\MCP_FROM_PI0_SURFACE.csv', index = None, header=True) \n",
    "df"
   ]
  }
 ],
 "metadata": {
  "kernelspec": {
   "display_name": "Python 3",
   "language": "python",
   "name": "python3"
  },
  "language_info": {
   "codemirror_mode": {
    "name": "ipython",
    "version": 3
   },
   "file_extension": ".py",
   "mimetype": "text/x-python",
   "name": "python",
   "nbconvert_exporter": "python",
   "pygments_lexer": "ipython3",
   "version": "3.8.3"
  }
 },
 "nbformat": 4,
 "nbformat_minor": 4
}
